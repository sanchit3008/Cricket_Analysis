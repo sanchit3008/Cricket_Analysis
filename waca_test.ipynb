{
 "cells": [
  {
   "cell_type": "markdown",
   "metadata": {
    "deletable": true,
    "editable": true
   },
   "source": [
    "# Analysis of Test Centuries made at WACA\n",
    "---\n",
    "The Western Australian Cricket Ground (WACA) is said to be the fastest pitch on earth. So it'd be very interesting to analyse the test centuries made there, and see the Fremantle Doctor really makes life tough for the batsmen or not!\n",
    "\n",
    "![alt text](http://i.cricketcb.com/i/stats/f/720x415/venue/images/38.jpg \"WACA\")\n",
    "\n",
    "Like always, I scraped my data from [Wikipedia](https://en.wikipedia.org/wiki/List_of_international_cricket_centuries_at_the_WACA_Ground) and the CSV file named waca_test.csv is available in the repo as well!\n",
    "\n"
   ]
  },
  {
   "cell_type": "markdown",
   "metadata": {
    "deletable": true,
    "editable": true
   },
   "source": [
    "## 0. Importing the dependenices\n",
    "\n",
    "Pandas + Matplotlib = Love"
   ]
  },
  {
   "cell_type": "code",
   "execution_count": 188,
   "metadata": {
    "collapsed": false,
    "deletable": true,
    "editable": true
   },
   "outputs": [],
   "source": [
    "import pandas as pd\n",
    "import matplotlib.pyplot as plt"
   ]
  },
  {
   "cell_type": "markdown",
   "metadata": {
    "deletable": true,
    "editable": true
   },
   "source": [
    "## 1. Viewing the Data\n"
   ]
  },
  {
   "cell_type": "code",
   "execution_count": 42,
   "metadata": {
    "collapsed": false,
    "deletable": true,
    "editable": true,
    "scrolled": true
   },
   "outputs": [
    {
     "name": "stdout",
     "output_type": "stream",
     "text": [
      "Number of entries is 85\n"
     ]
    },
    {
     "data": {
      "text/html": [
       "<div>\n",
       "<table border=\"1\" class=\"dataframe\">\n",
       "  <thead>\n",
       "    <tr style=\"text-align: right;\">\n",
       "      <th></th>\n",
       "      <th>No.</th>\n",
       "      <th>Score</th>\n",
       "      <th>Player</th>\n",
       "      <th>Team</th>\n",
       "      <th>Balls</th>\n",
       "      <th>Inns.</th>\n",
       "      <th>Opposing team</th>\n",
       "      <th>Date</th>\n",
       "      <th>Result</th>\n",
       "    </tr>\n",
       "  </thead>\n",
       "  <tbody>\n",
       "    <tr>\n",
       "      <th>0</th>\n",
       "      <td>1</td>\n",
       "      <td>131</td>\n",
       "      <td>Luckhurst, BrianBrian Luckhurst</td>\n",
       "      <td>England</td>\n",
       "      <td>301</td>\n",
       "      <td>1</td>\n",
       "      <td>Australia</td>\n",
       "      <td>000000001970-12-11-000011 December 1970</td>\n",
       "      <td>Drawn</td>\n",
       "    </tr>\n",
       "    <tr>\n",
       "      <th>1</th>\n",
       "      <td>2</td>\n",
       "      <td>171</td>\n",
       "      <td>Redpath, IanIan Redpath</td>\n",
       "      <td>Australia</td>\n",
       "      <td>372</td>\n",
       "      <td>2</td>\n",
       "      <td>England</td>\n",
       "      <td>000000001970-12-11-000011 December 1970</td>\n",
       "      <td>Drawn</td>\n",
       "    </tr>\n",
       "    <tr>\n",
       "      <th>2</th>\n",
       "      <td>3</td>\n",
       "      <td>108</td>\n",
       "      <td>Chappell, GregGreg Chappell (1/2)</td>\n",
       "      <td>Australia</td>\n",
       "      <td>218</td>\n",
       "      <td>2</td>\n",
       "      <td>England</td>\n",
       "      <td>000000001970-12-11-000011 December 1970</td>\n",
       "      <td>Drawn</td>\n",
       "    </tr>\n",
       "    <tr>\n",
       "      <th>3</th>\n",
       "      <td>4</td>\n",
       "      <td>115</td>\n",
       "      <td>Edrich, JohnJohn Edrich</td>\n",
       "      <td>England</td>\n",
       "      <td>332</td>\n",
       "      <td>3</td>\n",
       "      <td>Australia</td>\n",
       "      <td>000000001970-12-11-000011 December 1970</td>\n",
       "      <td>Drawn</td>\n",
       "    </tr>\n",
       "    <tr>\n",
       "      <th>4</th>\n",
       "      <td>5</td>\n",
       "      <td>115</td>\n",
       "      <td>Edwards, RossRoss Edwards</td>\n",
       "      <td>Australia</td>\n",
       "      <td>252</td>\n",
       "      <td>2</td>\n",
       "      <td>England</td>\n",
       "      <td>000000001974-12-13-000013 December 1974</td>\n",
       "      <td>Won</td>\n",
       "    </tr>\n",
       "  </tbody>\n",
       "</table>\n",
       "</div>"
      ],
      "text/plain": [
       "   No.  Score                             Player       Team  Balls  Inns.  \\\n",
       "0    1    131    Luckhurst, BrianBrian Luckhurst    England    301      1   \n",
       "1    2    171            Redpath, IanIan Redpath  Australia    372      2   \n",
       "2    3    108  Chappell, GregGreg Chappell (1/2)  Australia    218      2   \n",
       "3    4    115            Edrich, JohnJohn Edrich    England    332      3   \n",
       "4    5    115          Edwards, RossRoss Edwards  Australia    252      2   \n",
       "\n",
       "  Opposing team                                     Date Result  \n",
       "0     Australia  000000001970-12-11-000011 December 1970  Drawn  \n",
       "1       England  000000001970-12-11-000011 December 1970  Drawn  \n",
       "2       England  000000001970-12-11-000011 December 1970  Drawn  \n",
       "3     Australia  000000001970-12-11-000011 December 1970  Drawn  \n",
       "4       England  000000001974-12-13-000013 December 1974    Won  "
      ]
     },
     "execution_count": 42,
     "metadata": {},
     "output_type": "execute_result"
    }
   ],
   "source": [
    "dataframe = pd.read_csv(\"waca_test.csv\")        #Read from csv\n",
    "\n",
    "print (\"Number of entries is \" + str(len(dataframe)))     #Number of entries in the list\n",
    "\n",
    "dataframe.head()        #First 5 entries in the list"
   ]
  },
  {
   "cell_type": "markdown",
   "metadata": {
    "deletable": true,
    "editable": true
   },
   "source": [
    "## 2. Centuries scored  by each country\n",
    "\n"
   ]
  },
  {
   "cell_type": "code",
   "execution_count": 189,
   "metadata": {
    "collapsed": false,
    "deletable": true,
    "editable": true,
    "scrolled": true
   },
   "outputs": [
    {
     "data": {
      "image/png": "[encoded data removed]",
      "text/plain": [
       "<matplotlib.figure.Figure at 0x7fdfb1fee080>"
      ]
     },
     "metadata": {},
     "output_type": "display_data"
    }
   ],
   "source": [
    "parameters = ['Team','No.']       #Parameters required are country name and the century number\n",
    "\n",
    "temp = dataframe[parameters]      #Select the given attributes from the main dataframe\n",
    "\n",
    "df = temp.groupby(['Team'], as_index = False).count()    #Group by each team the count of centuries\n",
    "\n",
    "y = df['No.']  #As No. is numerical, it can be directly used for y-axis\n",
    "x = [i for i in range(len(y))]    #For plotting, only numeric values can be passed to pyplot, hence a dummy array\n",
    "                   \n",
    "\n",
    "Labels = df['Team']               #This is used to rename the labels in the plot to actual team names\n",
    "\n",
    "plt.bar(x,y, color = ['#f3f71d', '#1079ea', '#040766', '#020202', '#2ece0e', '#27824c', '#1c5470', '#a01c23'])\n",
    "plt.xticks(x, Labels)             #This renames the labels to the actual team names\n",
    "\n",
    "fig_size = plt.rcParams[\"figure.figsize\"]   #This adjusts height and width of the plot\n",
    "fig_size[0] = 13\n",
    "fig_size[1] = 5\n",
    "plt.rcParams[\"figure.figsize\"] = fig_size\n",
    "\n",
    "plt.title(\"Centuries by Country\", fontsize = 14, fontweight = \"bold\")\n",
    "plt.xlabel(\"Country\", fontweight = \"bold\")\n",
    "plt.ylabel(\"Number of Centuries\", fontweight = \"bold\")\n",
    "plt.show()"
   ]
  },
  {
   "cell_type": "markdown",
   "metadata": {
    "deletable": true,
    "editable": true
   },
   "source": [
    "Some interesting things to note are -<ul><li>Indian batsman and Pakistani batsmen have (almost) equal centuries!?</li><li>Non subcontinent nations have more centuries than the subcontinent countries</li>\n",
    "</ul>"
   ]
  },
  {
   "cell_type": "markdown",
   "metadata": {
    "deletable": true,
    "editable": true
   },
   "source": [
    "## 3. Result when a home/away batsman scores a century\n",
    "\n",
    "### a) Result when a touring batsman scores a century"
   ]
  },
  {
   "cell_type": "code",
   "execution_count": 75,
   "metadata": {
    "collapsed": false,
    "deletable": true,
    "editable": true
   },
   "outputs": [
    {
     "data": {
      "image/png": "[encoded data removed]",
      "text/plain": [
       "<matplotlib.figure.Figure at 0x7fdfb2271be0>"
      ]
     },
     "metadata": {},
     "output_type": "display_data"
    }
   ],
   "source": [
    "parameters = ['Team','Result']        #These are the parameters required\n",
    "\n",
    "temp = dataframe[parameters]\n",
    "\n",
    "temp = temp[temp.Team != \"England\"]    #Select all non-Aussie records\n",
    "\n",
    "df = temp.groupby(['Result'], as_index = False).count()    #Group by result(Drawn/Lost/Won)\n",
    "\n",
    "total_matches = df['Team'].sum()    #Total matches playes\n",
    "\n",
    "df.loc[df['Team']>0, 'Team'] = df.Team*100/total_matches    #This calculates the % of each category\n",
    "\n",
    "sizes = df['Team'].values   \n",
    "labels = df['Result'].values\n",
    "\n",
    "fig1, ax1 = plt.subplots()\n",
    "ax1.pie(sizes, labels=labels, autopct='%1.1f%%', startangle=90, colors = ('#536ac6','#ed0000','#1bc11b'))\n",
    "ax1.axis('equal')   #To obtain a circular pie chart\n",
    "plt.title(\"Result for Away Team\", fontweight = \"bold\")\n",
    "plt.show()"
   ]
  },
  {
   "cell_type": "markdown",
   "metadata": {
    "deletable": true,
    "editable": true
   },
   "source": [
    "### b) Result when an Aussie scores a century"
   ]
  },
  {
   "cell_type": "code",
   "execution_count": 76,
   "metadata": {
    "collapsed": false,
    "deletable": true,
    "editable": true
   },
   "outputs": [
    {
     "data": {
      "image/png": "[encoded data removed]",
      "text/plain": [
       "<matplotlib.figure.Figure at 0x7fdfb1fdabe0>"
      ]
     },
     "metadata": {},
     "output_type": "display_data"
    }
   ],
   "source": [
    "temp = dataframe[parameters]\n",
    "\n",
    "temp = temp[temp.Team == \"Australia\"]    #Select all Aussie centuries\n",
    "\n",
    "df = temp.groupby(['Result'], as_index = False).count()    #Group by result \n",
    "\n",
    "total_matches = df['Team'].sum()    \n",
    "\n",
    "df.loc[df['Team']>0, 'Team'] = df.Team*100/total_matches    #Calculate % of each result\n",
    "\n",
    "sizes = df['Team'].values   \n",
    "labels = df['Result'].values\n",
    "\n",
    "fig1, ax1 = plt.subplots()\n",
    "ax1.pie(sizes,labels=labels, autopct='%1.1f%%', startangle=90, colors = ('#536ac6','#ed0000','#1bc11b'))\n",
    "ax1.axis('equal')\n",
    "plt.title(\"Result for Australia\", fontweight = \"bold\")\n",
    "plt.show()"
   ]
  },
  {
   "cell_type": "markdown",
   "metadata": {
    "deletable": true,
    "editable": true
   },
   "source": [
    "<ul><li>As win percentage is high for both away teams and the Aussies, it implies that once a century is scored, it puts so much pressure on the opposition that a recovery is very tough.</li>\n",
    "<li>Once an Aussie batter gets to a ton, Australia hardly loses a match.</li>\n",
    "<li>As compared to Lord's, away teams have much greater chances to win after getting to a 100</li></ul>"
   ]
  },
  {
   "cell_type": "markdown",
   "metadata": {
    "deletable": true,
    "editable": true
   },
   "source": [
    "### 4. Centuries scored by innings"
   ]
  },
  {
   "cell_type": "code",
   "execution_count": 190,
   "metadata": {
    "collapsed": false,
    "deletable": true,
    "editable": true,
    "scrolled": true
   },
   "outputs": [
    {
     "data": {
      "image/png": "[encoded data removed]",
      "text/plain": [
       "<matplotlib.figure.Figure at 0x7fdfafd9c780>"
      ]
     },
     "metadata": {},
     "output_type": "display_data"
    }
   ],
   "source": [
    "parameters = ['Inns.','No.']        #These are the parameters required\n",
    "\n",
    "temp = dataframe[parameters]\n",
    "\n",
    "df = temp.groupby(['Inns.'], as_index = False).count()    #Group by innings\n",
    "\n",
    "x = (1,2,3,4)\n",
    "y = df['No.']\n",
    "plt.bar(x, y, color = ('#DD2C00', '#FF3D00', '#FF6E40', '#FF9E80'))\n",
    "\n",
    "fig_size = plt.rcParams[\"figure.figsize\"]   #This adjusts height and width of the plot\n",
    "fig_size[0] = 5\n",
    "fig_size[1] = 10\n",
    "plt.rcParams[\"figure.figsize\"] = fig_size\n",
    "\n",
    "plt.xticks([1,2,3,4])\n",
    "plt.title(\"Centuries vs Innings\", fontsize = 14, fontweight = \"bold\")\n",
    "plt.xlabel(\"Innings\", fontweight = \"bold\")\n",
    "plt.ylabel(\"Number of Centuries\", fontweight = \"bold\")\n",
    "plt.show()"
   ]
  },
  {
   "cell_type": "markdown",
   "metadata": {
    "deletable": true,
    "editable": true
   },
   "source": [
    "<ul><li>This is a very interesting trend, as generally the number of hundreds scored goes down with the innings #, but here the number is highest in 3rd innings, maybe due to the Aussie batsmen scoring tons on flat roads to set up big targets in recent times</li>\n",
    "<li>A good distribution of centuries shows that pitch also does not deteriorate much over the course of the match. (sans 4th innings which is more about temprament)</li>\n",
    "<li>Lesser number of hundreds in the first and second innings also point to the fact that as the match goes on, the pitch becomes less bouncier, and hence easier to bat on.</li></ul>"
   ]
  },
  {
   "cell_type": "markdown",
   "metadata": {
    "deletable": true,
    "editable": true
   },
   "source": [
    "### 5. Distribution of Final Score\n",
    "---\n",
    "As the score made by each batsman is available here, it would be nice to know if hundreds are converted into big ones at the WACA!"
   ]
  },
  {
   "cell_type": "code",
   "execution_count": 197,
   "metadata": {
    "collapsed": false,
    "deletable": true,
    "editable": true
   },
   "outputs": [
    {
     "data": {
      "image/png": "[encoded data removed]",
      "text/plain": [
       "<matplotlib.figure.Figure at 0x7fdfa79bbba8>"
      ]
     },
     "metadata": {},
     "output_type": "display_data"
    }
   ],
   "source": [
    "parameters = ['Score']        #These are the parameters required\n",
    "temp = dataframe[parameters]\n",
    "\n",
    "fig_size = plt.rcParams[\"figure.figsize\"]   #This adjusts height and width of the plot\n",
    "fig_size[0] = 8\n",
    "fig_size[1] = 5\n",
    "plt.rcParams[\"figure.figsize\"] = fig_size\n",
    "\n",
    "plt.hist(temp.Score, bins = [100,150,200,250,300,350,400], color = ['#27824c'])\n",
    "plt.title(\"Histogram of Final Score\", fontsize = 14, fontweight = \"bold\")\n",
    "plt.xlabel(\"Final Score\", fontweight = \"bold\")\n",
    "plt.ylabel(\"Occurences\", fontweight = \"bold\")\n",
    "plt.grid(True)\n",
    "plt.show()"
   ]
  },
  {
   "cell_type": "markdown",
   "metadata": {
    "deletable": true,
    "editable": true
   },
   "source": [
    "<ul><li>WACA seems to be unfriendly for high scoring innings, as mot scores are between 100-150.</li>\n",
    "<li>This is supported by the fact that Hayden's 384 came against a weak Zimbabwe, and the 2 scores between 250-300 were scored in the same match by Ross Taylor and David Warner. So on most occassions, WACA is still a tough wicket to last long on</li></ul>"
   ]
  },
  {
   "cell_type": "markdown",
   "metadata": {
    "deletable": true,
    "editable": true
   },
   "source": [
    "## 6. Strike Rate by Innings\n",
    "---\n",
    "In this section, let us take a look at the strike rates by which batsmen score hundreds in each of the 1st, 2nd, 3rd and 4th innings."
   ]
  },
  {
   "cell_type": "code",
   "execution_count": 198,
   "metadata": {
    "collapsed": false,
    "deletable": true,
    "editable": true
   },
   "outputs": [
    {
     "data": {
      "image/png": "[encoded data removed]",
      "text/plain": [
       "<matplotlib.figure.Figure at 0x7fdfa79bbe80>"
      ]
     },
     "metadata": {},
     "output_type": "display_data"
    }
   ],
   "source": [
    "dataframe['Strike_Rate'] = (dataframe.Score * 100.00 / dataframe.Balls)\n",
    "\n",
    "\n",
    "temp = dataframe[['Strike_Rate','Inns.']]\n",
    "\n",
    "df = temp.groupby(['Inns.'], as_index=False).mean()\n",
    "\n",
    "x = (1,2,3,4)\n",
    "y = df['Strike_Rate']\n",
    "plt.bar(x, y, color = ('#eea990', '#aa6f73', '#a39193', '#66545e'))\n",
    "\n",
    "fig_size = plt.rcParams[\"figure.figsize\"]   #This adjusts height and width of the plot\n",
    "fig_size[0] = 5\n",
    "fig_size[1] = 15\n",
    "plt.rcParams[\"figure.figsize\"] = fig_size\n",
    "\n",
    "plt.xticks([1,2,3,4])\n",
    "plt.title(\"Strike Rate vs Innings\", fontsize = 14, fontweight = \"bold\")\n",
    "plt.xlabel(\"Innings\", fontweight = \"bold\")\n",
    "plt.ylabel(\"Strike Rate\", fontweight = \"bold\")\n",
    "plt.grid(True)\n",
    "plt.show()"
   ]
  },
  {
   "cell_type": "markdown",
   "metadata": {
    "deletable": true,
    "editable": true
   },
   "source": [
    "<ul><li>Strike Rates in the first 3 innings are almost equal, so the conditions to bat remain almost the same in the initial phases of the match</li>\n",
    "<li>It takes a dip in the last innings, which implies that either the conditions get tougher to bat in, or most batsmen play prefer to play out a draw</li></ul>"
   ]
  },
  {
   "cell_type": "markdown",
   "metadata": {
    "deletable": true,
    "editable": true
   },
   "source": [
    "### Thank you for reading! I hope you enjoyed this notebook!\n",
    "\n",
    "#### I look forward to your valuable suggestions and ideas, and bugs reports, if any!"
   ]
  }
 ],
 "metadata": {
  "kernelspec": {
   "display_name": "Python 3",
   "language": "python",
   "name": "python3"
  },
  "language_info": {
   "codemirror_mode": {
    "name": "ipython",
    "version": 3
   },
   "file_extension": ".py",
   "mimetype": "text/x-python",
   "name": "python",
   "nbconvert_exporter": "python",
   "pygments_lexer": "ipython3",
   "version": "3.5.2"
  }
 },
 "nbformat": 4,
 "nbformat_minor": 2
}
